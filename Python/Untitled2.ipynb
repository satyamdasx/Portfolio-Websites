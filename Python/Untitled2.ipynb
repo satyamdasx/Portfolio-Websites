{
 "cells": [
  {
   "cell_type": "code",
   "execution_count": 2,
   "id": "e70b5ea0",
   "metadata": {},
   "outputs": [
    {
     "name": "stdout",
     "output_type": "stream",
     "text": [
      "Enter any number=145\n",
      "The number 145 is Krishnamurti number\n"
     ]
    }
   ],
   "source": [
    "n=int(input(\"Enter any number=\"))\n",
    "s=0;t=n\n",
    "while(n>0):\n",
    "    r=n%10\n",
    "    f=1\n",
    "    for i in range(1,r+1):\n",
    "        f=f*i\n",
    "    n=n//10\n",
    "    s=s+f\n",
    "if(t==s):\n",
    "    print(\"The number\",t,\"is Krishnamurti number\")\n",
    "else:\n",
    "    print(\"The number\",t,\"is not Krishnamurti number\")"
   ]
  },
  {
   "cell_type": "code",
   "execution_count": 4,
   "id": "d672494a",
   "metadata": {},
   "outputs": [
    {
     "name": "stdout",
     "output_type": "stream",
     "text": [
      "Enter any number=123\n",
      "Product of digit will be= 6\n"
     ]
    }
   ],
   "source": [
    "n=int(input(\"Enter any number=\"))\n",
    "p=1\n",
    "while(n>0):\n",
    "    r=n%10\n",
    "    p=p*r\n",
    "    n=n//10\n",
    "print(\"Product of digit will be=\",p)"
   ]
  },
  {
   "cell_type": "code",
   "execution_count": null,
   "id": "6ab5cdfa",
   "metadata": {},
   "outputs": [],
   "source": []
  }
 ],
 "metadata": {
  "kernelspec": {
   "display_name": "Python 3 (ipykernel)",
   "language": "python",
   "name": "python3"
  },
  "language_info": {
   "codemirror_mode": {
    "name": "ipython",
    "version": 3
   },
   "file_extension": ".py",
   "mimetype": "text/x-python",
   "name": "python",
   "nbconvert_exporter": "python",
   "pygments_lexer": "ipython3",
   "version": "3.11.4"
  }
 },
 "nbformat": 4,
 "nbformat_minor": 5
}
